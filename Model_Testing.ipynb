{
 "cells": [
  {
   "cell_type": "code",
   "execution_count": 1,
   "id": "6f2706e9",
   "metadata": {},
   "outputs": [],
   "source": [
    "import pickle\n",
    "import pandas as pd"
   ]
  },
  {
   "cell_type": "code",
   "execution_count": 2,
   "id": "aab1091d",
   "metadata": {},
   "outputs": [],
   "source": [
    "model = pickle.load(open('SalaryPredictionModel.pkl', 'rb'))"
   ]
  },
  {
   "cell_type": "code",
   "execution_count": 5,
   "id": "9c78b683",
   "metadata": {},
   "outputs": [
    {
     "name": "stdout",
     "output_type": "stream",
     "text": [
      "  SEX DESIGNATION       UNIT  PAST EXP  EXPERIENCE\n",
      "0   F     Analyst  Marketing         0           3\n"
     ]
    }
   ],
   "source": [
    "testData = pd.DataFrame({\n",
    "    'SEX': ['F'],\n",
    "    'DESIGNATION': ['Analyst'],\n",
    "    'UNIT': ['Marketing'],\n",
    "    'PAST EXP': [0],\n",
    "    'EXPERIENCE': [3]\n",
    "})\n",
    "print(testData)"
   ]
  },
  {
   "cell_type": "code",
   "execution_count": 6,
   "id": "dfa9eb78",
   "metadata": {},
   "outputs": [
    {
     "data": {
      "text/plain": [
       "array([45082.48217019])"
      ]
     },
     "execution_count": 6,
     "metadata": {},
     "output_type": "execute_result"
    }
   ],
   "source": [
    "model.predict(testData)"
   ]
  },
  {
   "cell_type": "code",
   "execution_count": null,
   "id": "649a0b57",
   "metadata": {},
   "outputs": [],
   "source": []
  }
 ],
 "metadata": {
  "kernelspec": {
   "display_name": "Python 3 (ipykernel)",
   "language": "python",
   "name": "python3"
  },
  "language_info": {
   "codemirror_mode": {
    "name": "ipython",
    "version": 3
   },
   "file_extension": ".py",
   "mimetype": "text/x-python",
   "name": "python",
   "nbconvert_exporter": "python",
   "pygments_lexer": "ipython3",
   "version": "3.11.5"
  }
 },
 "nbformat": 4,
 "nbformat_minor": 5
}
